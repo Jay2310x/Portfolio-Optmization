{
 "cells": [
  {
   "cell_type": "code",
   "execution_count": 1,
   "metadata": {},
   "outputs": [],
   "source": [
    "import pandas as pd\n",
    "import yfinance as yf\n",
    "from datetime import date, timedelta"
   ]
  },
  {
   "cell_type": "code",
   "execution_count": 3,
   "metadata": {},
   "outputs": [],
   "source": [
    "#define the time period for the data\n",
    "end_date = date.today().strftime(\"%Y-%m-%d\")\n",
    "start_date = (date.today() - timedelta(days=365)).strftime(\"%Y-%m-%d\")\n",
    "\n"
   ]
  },
  {
   "cell_type": "code",
   "execution_count": 5,
   "metadata": {},
   "outputs": [
    {
     "name": "stdout",
     "output_type": "stream",
     "text": [
      "['RELIANCE.NS', 'TCS.NS', 'INFY.NS', 'HDFCBANK.NS']\n"
     ]
    }
   ],
   "source": [
    "# list of stock tickers to download\n",
    "tickers = ['RELIANCE.NS', 'TCS.NS', 'INFY.NS', 'HDFCBANK.NS']\n",
    "print(tickers)"
   ]
  },
  {
   "cell_type": "code",
   "execution_count": 7,
   "metadata": {},
   "outputs": [
    {
     "name": "stdout",
     "output_type": "stream",
     "text": [
      "Attribute       Date       Ticker    Adj Close        Close         High  \\\n",
      "0         2023-07-31  HDFCBANK.NS  1628.955811  1651.199951  1656.800049   \n",
      "1         2023-07-31      INFY.NS  1330.875732  1355.699951  1357.500000   \n",
      "2         2023-07-31  RELIANCE.NS  2540.276611  2549.250000  2553.899902   \n",
      "3         2023-07-31       TCS.NS  3364.554199  3421.449951  3426.649902   \n",
      "4         2023-08-01  HDFCBANK.NS  1639.857056  1662.250000  1667.449951   \n",
      "\n",
      "Attribute          Low         Open      Volume  \n",
      "0          1638.699951  1650.050049  17282503.0  \n",
      "1          1333.250000  1348.750000   7902180.0  \n",
      "2          2517.949951  2527.850098   4275587.0  \n",
      "3          3360.899902  3364.399902   2743678.0  \n",
      "4          1650.000000  1654.449951  17697094.0  \n"
     ]
    }
   ],
   "source": [
    "data = yf.download(tickers, start=start_date, end=end_date, progress=False)\n",
    "\n",
    "# reset index to bring Date into the columns for the melt function\n",
    "data = data.reset_index()\n",
    "\n",
    "# melt the DataFrame to make it long format where each row is a unique combination of Date, Ticker, and attributes\n",
    "data_melted = data.melt(id_vars=['Date'], var_name=['Attribute', 'Ticker'])\n",
    "\n",
    "# pivot the melted DataFrame to have the attributes (Open, High, Low, etc.) as columns\n",
    "data_pivoted = data_melted.pivot_table(index=['Date', 'Ticker'], columns='Attribute', values='value', aggfunc='first')\n",
    "\n",
    "# reset index to turn multi-index into columns\n",
    "stock_data = data_pivoted.reset_index()\n",
    "\n",
    "print(stock_data.head()) "
   ]
  },
  {
   "cell_type": "code",
   "execution_count": null,
   "metadata": {},
   "outputs": [],
   "source": []
  }
 ],
 "metadata": {
  "kernelspec": {
   "display_name": "Python 3",
   "language": "python",
   "name": "python3"
  },
  "language_info": {
   "codemirror_mode": {
    "name": "ipython",
    "version": 3
   },
   "file_extension": ".py",
   "mimetype": "text/x-python",
   "name": "python",
   "nbconvert_exporter": "python",
   "pygments_lexer": "ipython3",
   "version": "3.10.10"
  }
 },
 "nbformat": 4,
 "nbformat_minor": 2
}
